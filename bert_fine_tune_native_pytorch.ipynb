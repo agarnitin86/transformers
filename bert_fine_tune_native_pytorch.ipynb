{
  "nbformat": 4,
  "nbformat_minor": 0,
  "metadata": {
    "colab": {
      "provenance": [],
      "mount_file_id": "1fIr7lghlKxeSE80soT1AM8Ep_aYQNX72",
      "authorship_tag": "ABX9TyNx6XwQbJDcVypdOvMkPzeR",
      "include_colab_link": true
    },
    "kernelspec": {
      "name": "python3",
      "display_name": "Python 3"
    },
    "language_info": {
      "name": "python"
    },
    "accelerator": "GPU",
    "gpuClass": "standard"
  },
  "cells": [
    {
      "cell_type": "markdown",
      "metadata": {
        "id": "view-in-github",
        "colab_type": "text"
      },
      "source": [
        "<a href=\"https://colab.research.google.com/github/agarnitin86/transformers/blob/main/bert_fine_tune_native_pytorch.ipynb\" target=\"_parent\"><img src=\"https://colab.research.google.com/assets/colab-badge.svg\" alt=\"Open In Colab\"/></a>"
      ]
    },
    {
      "cell_type": "markdown",
      "source": [
        "https://huggingface.co/docs/transformers/training#train-with-pytorch-trainer"
      ],
      "metadata": {
        "id": "n0XnFKHUn13f"
      }
    },
    {
      "cell_type": "code",
      "execution_count": null,
      "metadata": {
        "id": "DHHTrgOHxYRW"
      },
      "outputs": [],
      "source": [
        "!pip install transformers datasets evaluate"
      ]
    },
    {
      "cell_type": "code",
      "source": [
        "from datasets import Dataset\n",
        "from datasets import load_dataset\n",
        "\n",
        "import pandas as pd"
      ],
      "metadata": {
        "id": "tT8f8Zsm_bsn"
      },
      "execution_count": null,
      "outputs": []
    },
    {
      "cell_type": "code",
      "source": [
        "train_path = '.'\n",
        "train_file_name = 'train_all_tasks.csv'"
      ],
      "metadata": {
        "id": "HqDBJ-OUFN94"
      },
      "execution_count": null,
      "outputs": []
    },
    {
      "cell_type": "code",
      "source": [
        "## Load dataset from a csv file\n",
        "df = pd.read_csv(train_file_name)\n",
        "\n",
        "df['label'] = 1\n",
        "df.loc[df['label_sexist']=='not sexist', 'lable'] = 0\n",
        "df = df[['text', 'label']]\n",
        "dataset = Dataset.from_pandas(df)\n",
        "dataset\n",
        "\n",
        "# ## Code to load imdb data set\n",
        "# imdb = load_dataset(\"imdb\")\n",
        "# #dataset = load_dataset(\"csv\", data_files={'train':train_path+train_file_name})"
      ],
      "metadata": {
        "id": "WKl5U0IG_Jt5"
      },
      "execution_count": null,
      "outputs": []
    },
    {
      "cell_type": "code",
      "source": [
        "from transformers import AutoTokenizer\n",
        "tokenizer = AutoTokenizer.from_pretrained(\"distilbert-base-uncased\")"
      ],
      "metadata": {
        "id": "J576Zgy3yCI1"
      },
      "execution_count": null,
      "outputs": []
    },
    {
      "cell_type": "code",
      "source": [
        "def preprocess_function(examples):\n",
        "    return tokenizer(examples[\"text\"], truncation=True, padding=True, pad_to_multiple_of=512)"
      ],
      "metadata": {
        "id": "xlKvuE9SyCOd"
      },
      "execution_count": null,
      "outputs": []
    },
    {
      "cell_type": "code",
      "source": [
        "tokenized_datasets = dataset.map(preprocess_function, batched=True)"
      ],
      "metadata": {
        "id": "q3sI0PMXyCRD"
      },
      "execution_count": null,
      "outputs": []
    },
    {
      "cell_type": "code",
      "source": [
        "tokenized_datasets = tokenized_datasets.remove_columns([\"text\"])\n",
        "tokenized_datasets = tokenized_datasets.rename_column(\"label\", \"labels\")\n",
        "tokenized_datasets.set_format(\"torch\")"
      ],
      "metadata": {
        "id": "jGgWgpH8zpCo"
      },
      "execution_count": null,
      "outputs": []
    },
    {
      "cell_type": "code",
      "source": [
        "#tokenized_datasets['train'][1]['input_ids']\n",
        "tokenized_datasets[1]['input_ids']"
      ],
      "metadata": {
        "id": "4WgLdI7U0ce3"
      },
      "execution_count": null,
      "outputs": []
    },
    {
      "cell_type": "code",
      "source": [
        "# ## For imdb dataset\n",
        "# small_train_dataset = tokenized_datasets[\"train\"].shuffle(seed=42).select(range(1000))\n",
        "# small_eval_dataset = tokenized_datasets[\"test\"].shuffle(seed=42).select(range(1000))\n",
        "\n",
        "shuffled_dataset = tokenized_datasets.shuffle(seed=42)\n",
        "small_train_dataset = shuffled_dataset.select(range(12000))\n",
        "small_eval_dataset  = shuffled_dataset.select(range(12001,14000))"
      ],
      "metadata": {
        "id": "opIlvu7H1yg3"
      },
      "execution_count": null,
      "outputs": []
    },
    {
      "cell_type": "code",
      "source": [
        "from torch.utils.data import DataLoader\n",
        "\n",
        "train_dataloader = DataLoader(small_train_dataset, shuffle=True, batch_size=8)\n",
        "eval_dataloader = DataLoader(small_eval_dataset, batch_size=8)"
      ],
      "metadata": {
        "id": "0wGPoB4A1rTg"
      },
      "execution_count": null,
      "outputs": []
    },
    {
      "cell_type": "code",
      "source": [
        "from transformers import AutoModelForSequenceClassification\n",
        "#model = AutoModelForSequenceClassification.from_pretrained(\"bert-base-cased\", num_labels=5)\n",
        "model = AutoModelForSequenceClassification.from_pretrained(\"distilbert-base-uncased\", num_labels=2)\n"
      ],
      "metadata": {
        "id": "ObilMK4_1_Wm"
      },
      "execution_count": null,
      "outputs": []
    },
    {
      "cell_type": "code",
      "source": [
        "from torch.optim import AdamW\n",
        "\n",
        "optimizer = AdamW(model.parameters(), lr=5e-5)"
      ],
      "metadata": {
        "id": "0tZShp2t2KIP"
      },
      "execution_count": null,
      "outputs": []
    },
    {
      "cell_type": "code",
      "source": [
        "from transformers import get_scheduler\n",
        "\n",
        "num_epochs = 3\n",
        "num_training_steps = num_epochs * len(train_dataloader)\n",
        "lr_scheduler = get_scheduler(\n",
        "    name=\"linear\", optimizer=optimizer, num_warmup_steps=0, num_training_steps=num_training_steps\n",
        ")"
      ],
      "metadata": {
        "id": "jPFgISa62Ooi"
      },
      "execution_count": null,
      "outputs": []
    },
    {
      "cell_type": "code",
      "source": [
        "import torch\n",
        "\n",
        "device = torch.device(\"cuda\") if torch.cuda.is_available() else torch.device(\"cpu\")\n",
        "model.to(device)"
      ],
      "metadata": {
        "id": "-20jEg4V2OGP"
      },
      "execution_count": null,
      "outputs": []
    },
    {
      "cell_type": "code",
      "source": [
        "for batch in train_dataloader:\n",
        "    print(batch['input_ids'].shape)\n",
        "    break\n",
        "    # for key, val in batch.items():\n",
        "    #     print(key)\n",
        "    #     print(val)\n",
        "    #     break\n",
        "    # break"
      ],
      "metadata": {
        "id": "N7nCingc4zTx"
      },
      "execution_count": null,
      "outputs": []
    },
    {
      "cell_type": "code",
      "source": [
        "from tqdm.auto import tqdm\n",
        "\n",
        "progress_bar = tqdm(range(num_training_steps))\n",
        "\n",
        "model.train()\n",
        "for epoch in range(num_epochs):\n",
        "    for batch in train_dataloader:\n",
        "        batch = {k: v.to(device) for k, v in batch.items()}\n",
        "        outputs = model(**batch)\n",
        "        loss = outputs.loss\n",
        "        print(epoch,loss)\n",
        "        loss.backward()\n",
        "\n",
        "        optimizer.step()\n",
        "        lr_scheduler.step()\n",
        "        optimizer.zero_grad()\n",
        "        progress_bar.update(1)\n",
        "\n",
        "model.save_pretrained(\"distilbert-base-uncased-semeval-10\")        "
      ],
      "metadata": {
        "id": "itQJTrKS2naw"
      },
      "execution_count": null,
      "outputs": []
    },
    {
      "cell_type": "code",
      "source": [
        "import evaluate\n",
        "\n",
        "metric = evaluate.load(\"f1\")\n",
        "model.eval()\n",
        "for batch in eval_dataloader:\n",
        "    batch = {k: v.to(device) for k, v in batch.items()}\n",
        "    with torch.no_grad():\n",
        "        outputs = model(**batch)\n",
        "\n",
        "    logits = outputs.logits\n",
        "    predictions = torch.argmax(logits, dim=-1)\n",
        "    metric.add_batch(predictions=predictions, references=batch[\"labels\"])\n",
        "\n",
        "metric.compute()"
      ],
      "metadata": {
        "id": "Nx0ryaozuCRw"
      },
      "execution_count": null,
      "outputs": []
    },
    {
      "cell_type": "code",
      "source": [
        "small_eval_dataset['input_ids']"
      ],
      "metadata": {
        "id": "FPRTLAz3m5ga"
      },
      "execution_count": null,
      "outputs": []
    },
    {
      "cell_type": "code",
      "source": [
        "model(small_eval_dataset['input_ids'].to(device))"
      ],
      "metadata": {
        "id": "0c4hwFT3mu8Q"
      },
      "execution_count": null,
      "outputs": []
    },
    {
      "cell_type": "code",
      "source": [
        "sentences = dataset.to_pandas()['text'].tolist()\n",
        "sentence_encoding = tokenizer(sentences[10], truncation=True, padding=True, return_tensors='pt')\n",
        "model.to(torch.device(\"cpu\"))\n",
        "embedings = model(**sentence_encoding.to(torch.device(\"cpu\")))"
      ],
      "metadata": {
        "id": "7djDvW9ksfoM"
      },
      "execution_count": null,
      "outputs": []
    },
    {
      "cell_type": "code",
      "source": [
        "outputs['logits']"
      ],
      "metadata": {
        "id": "9Sl6kS3Ax82O"
      },
      "execution_count": null,
      "outputs": []
    },
    {
      "cell_type": "code",
      "source": [],
      "metadata": {
        "id": "xc829nnIlWBr"
      },
      "execution_count": null,
      "outputs": []
    }
  ]
}